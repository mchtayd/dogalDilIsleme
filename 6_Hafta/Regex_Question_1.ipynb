{
 "cells": [
  {
   "cell_type": "code",
   "execution_count": 28,
   "id": "4bbdee11",
   "metadata": {},
   "outputs": [],
   "source": [
    "import re"
   ]
  },
  {
   "cell_type": "code",
   "execution_count": 29,
   "id": "0f257117",
   "metadata": {},
   "outputs": [
    {
     "name": "stdout",
     "output_type": "stream",
     "text": [
      "E-mail adresinizi giriniz:mchtayd.x@gmail.com\n"
     ]
    }
   ],
   "source": [
    "isim = input(\"E-mail adresinizi giriniz:\")"
   ]
  },
  {
   "cell_type": "code",
   "execution_count": 30,
   "id": "404bb407",
   "metadata": {},
   "outputs": [
    {
     "name": "stdout",
     "output_type": "stream",
     "text": [
      "Kullanıcı Adı:  mchtayd.x\n",
      "Domain Adı:  gmail.com\n"
     ]
    }
   ],
   "source": [
    "pattern = \"@\"\n",
    "liste = re.split(pattern,isim)\n",
    "print(\"Kullanıcı Adı: \", liste[0])\n",
    "print(\"Domain Adı: \", liste[1])"
   ]
  }
 ],
 "metadata": {
  "kernelspec": {
   "display_name": "Python 3 (ipykernel)",
   "language": "python",
   "name": "python3"
  },
  "language_info": {
   "codemirror_mode": {
    "name": "ipython",
    "version": 3
   },
   "file_extension": ".py",
   "mimetype": "text/x-python",
   "name": "python",
   "nbconvert_exporter": "python",
   "pygments_lexer": "ipython3",
   "version": "3.9.13"
  }
 },
 "nbformat": 4,
 "nbformat_minor": 5
}

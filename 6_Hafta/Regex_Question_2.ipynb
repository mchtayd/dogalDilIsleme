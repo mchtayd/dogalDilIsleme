{
 "cells": [
  {
   "cell_type": "code",
   "execution_count": 48,
   "id": "61e70c8c",
   "metadata": {},
   "outputs": [],
   "source": [
    "import re"
   ]
  },
  {
   "cell_type": "code",
   "execution_count": 49,
   "id": "7d454752",
   "metadata": {},
   "outputs": [
    {
     "name": "stdout",
     "output_type": "stream",
     "text": [
      "isim giriniz:Ayşe\n",
      "isim giriniz:Ahmet\n",
      "isim giriniz:Murat\n",
      "isim giriniz:Selma\n",
      "isim giriniz:Yağız\n"
     ]
    }
   ],
   "source": [
    "liste =  []\n",
    "for i in range(5):\n",
    "    isim = input(\"isim giriniz:\")\n",
    "    liste.append(isim)"
   ]
  },
  {
   "cell_type": "code",
   "execution_count": 53,
   "id": "1c48dfb6",
   "metadata": {},
   "outputs": [
    {
     "name": "stdout",
     "output_type": "stream",
     "text": [
      "['Ayşe', 'Ahmet', 'Selma']\n"
     ]
    }
   ],
   "source": [
    "listeA = []\n",
    "pattern = r\"^[A]\"\n",
    "pattern2 = r\"[e]\"\n",
    "for isim in liste:\n",
    "    if re.search(pattern, isim) or re.search(pattern2, isim):\n",
    "        listeA.append(isim)\n",
    "print(listeA)"
   ]
  },
  {
   "cell_type": "code",
   "execution_count": null,
   "id": "c867aaa7",
   "metadata": {},
   "outputs": [],
   "source": []
  }
 ],
 "metadata": {
  "kernelspec": {
   "display_name": "Python 3 (ipykernel)",
   "language": "python",
   "name": "python3"
  },
  "language_info": {
   "codemirror_mode": {
    "name": "ipython",
    "version": 3
   },
   "file_extension": ".py",
   "mimetype": "text/x-python",
   "name": "python",
   "nbconvert_exporter": "python",
   "pygments_lexer": "ipython3",
   "version": "3.9.13"
  }
 },
 "nbformat": 4,
 "nbformat_minor": 5
}
